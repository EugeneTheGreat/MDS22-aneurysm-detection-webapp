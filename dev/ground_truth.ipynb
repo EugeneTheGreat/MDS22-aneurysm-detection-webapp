{
 "cells": [
  {
   "cell_type": "code",
   "execution_count": 6,
   "metadata": {},
   "outputs": [],
   "source": [
    "import os\n",
    "import numpy as np\n",
    "import nibabel as nib\n",
    "import matplotlib.pyplot as plt\n",
    "from matplotlib.colors import ListedColormap\n",
    "from PIL import Image"
   ]
  },
  {
   "cell_type": "code",
   "execution_count": 7,
   "metadata": {},
   "outputs": [],
   "source": [
    "gt_path = '/media/student/HDD 1/MDS22/dataset/derivatives/manual_masks/sub-022/ses-20101011/anat/sub-022_ses-20101011_desc-Lesion_1_mask.nii.gz'"
   ]
  },
  {
   "cell_type": "code",
   "execution_count": 16,
   "metadata": {},
   "outputs": [],
   "source": [
    "brain_path = '/media/student/HDD 1/MDS22/dataset/sub-022/ses-20101011/anat/sub-022_ses-20101011_angio.nii.gz'"
   ]
  },
  {
   "cell_type": "code",
   "execution_count": 17,
   "metadata": {},
   "outputs": [],
   "source": [
    "gt = nib.load(gt_path).get_fdata()\n",
    "brain = nib.load(brain_path).get_fdata()"
   ]
  },
  {
   "cell_type": "code",
   "execution_count": 18,
   "metadata": {},
   "outputs": [
    {
     "name": "stdout",
     "output_type": "stream",
     "text": [
      "[298 299 300 301 302 303 304 305 306 307 308 309 310 311 312 313 314 315\n",
      " 316]\n",
      "[205 206 207 208 209 210 211 212 213 214 215 216 217 218 219 220 221 222\n",
      " 223]\n",
      "[ 86  87  88  89  90  91  92  93  94  95  96  97  98  99 100]\n"
     ]
    }
   ],
   "source": [
    "marker_indices = np.where(gt == 1)\n",
    "for axis in marker_indices:\n",
    "    print(np.unique(axis))"
   ]
  },
  {
   "cell_type": "code",
   "execution_count": null,
   "metadata": {},
   "outputs": [],
   "source": [
    "visualise(brain, gt, 0, 307)"
   ]
  },
  {
   "cell_type": "code",
   "execution_count": 12,
   "metadata": {},
   "outputs": [],
   "source": [
    "def visualise(img, mask, axis, slice_index, img_save_path=None, segm_save_path=None, figsize=(10, 10)):\n",
    "    # plt.ioff()\n",
    "    \n",
    "    if axis == 0:\n",
    "        img_rot = Image.fromarray(img[slice_index, :, :]).transpose(Image.ROTATE_90) \n",
    "        mask_rot = Image.fromarray(mask[slice_index, :, :]).transpose(Image.ROTATE_90) \n",
    "    elif axis == 1:\n",
    "        img_rot = Image.fromarray(img[:, slice_index, :]).transpose(Image.ROTATE_90) \n",
    "        mask_rot = Image.fromarray(mask[:, slice_index, :]).transpose(Image.ROTATE_90) \n",
    "    elif axis == 2:\n",
    "        img_rot = Image.fromarray(img[:, :, slice_index]).transpose(Image.ROTATE_90) \n",
    "        mask_rot = Image.fromarray(mask[:, :, slice_index]).transpose(Image.ROTATE_90) \n",
    "    else:\n",
    "        raise ValueError('Not a valid axis.')\n",
    "\n",
    "    # Plot the image\n",
    "    fig, axes = plt.subplots(1, 1, figsize=figsize)\n",
    "\n",
    "    axes.imshow(img_rot, cmap='gray')\n",
    "    axes.axis('off')\n",
    "\n",
    "    plt.tight_layout()\n",
    "    # plt.savefig(img_save_path)\n",
    "    # plt.close()\n",
    "\n",
    "    # plt.ioff()\n",
    "\n",
    "    # Overlay the aneurysm mask on the image\n",
    "    cmap_colors = [(0, 0, 0, 0), (0.5, 0, 0.5)]  # Transparent for background, purple for mask\n",
    "    custom_cmap = ListedColormap(cmap_colors)\n",
    "    \n",
    "    fig, axes = plt.subplots(1, 1, figsize=figsize)\n",
    "\n",
    "    axes.imshow(img_rot, cmap='gray')\n",
    "    axes.imshow(np.ma.masked_where(mask_rot == 0, mask_rot), cmap=custom_cmap, alpha=0.9)\n",
    "    axes.axis('off')\n",
    "\n",
    "    plt.tight_layout()\n",
    "    # plt.savefig(segm_save_path)\n",
    "    # plt.close()"
   ]
  },
  {
   "cell_type": "code",
   "execution_count": null,
   "metadata": {},
   "outputs": [],
   "source": []
  }
 ],
 "metadata": {
  "kernelspec": {
   "display_name": "fyp2",
   "language": "python",
   "name": "python3"
  },
  "language_info": {
   "codemirror_mode": {
    "name": "ipython",
    "version": 3
   },
   "file_extension": ".py",
   "mimetype": "text/x-python",
   "name": "python",
   "nbconvert_exporter": "python",
   "pygments_lexer": "ipython3",
   "version": "3.9.18"
  },
  "orig_nbformat": 4
 },
 "nbformat": 4,
 "nbformat_minor": 2
}
