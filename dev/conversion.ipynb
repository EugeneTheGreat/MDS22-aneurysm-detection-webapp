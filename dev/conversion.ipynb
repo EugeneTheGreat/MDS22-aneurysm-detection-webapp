{
 "cells": [
  {
   "cell_type": "code",
   "execution_count": 1,
   "metadata": {},
   "outputs": [
    {
     "name": "stderr",
     "output_type": "stream",
     "text": [
      "2024-04-25 10:51:22.339962: E external/local_xla/xla/stream_executor/cuda/cuda_dnn.cc:9261] Unable to register cuDNN factory: Attempting to register factory for plugin cuDNN when one has already been registered\n",
      "2024-04-25 10:51:22.339995: E external/local_xla/xla/stream_executor/cuda/cuda_fft.cc:607] Unable to register cuFFT factory: Attempting to register factory for plugin cuFFT when one has already been registered\n",
      "2024-04-25 10:51:22.341017: E external/local_xla/xla/stream_executor/cuda/cuda_blas.cc:1515] Unable to register cuBLAS factory: Attempting to register factory for plugin cuBLAS when one has already been registered\n",
      "2024-04-25 10:51:22.346822: I tensorflow/core/platform/cpu_feature_guard.cc:182] This TensorFlow binary is optimized to use available CPU instructions in performance-critical operations.\n",
      "To enable the following instructions: AVX2 AVX512F FMA, in other operations, rebuild TensorFlow with the appropriate compiler flags.\n",
      "2024-04-25 10:51:23.005708: W tensorflow/compiler/tf2tensorrt/utils/py_utils.cc:38] TF-TRT Warning: Could not find TensorRT\n"
     ]
    }
   ],
   "source": [
    "import os\n",
    "import sys\n",
    "import tensorflow as tf\n",
    "\n",
    "sys.path.append(\"/home/student/Documents/MDS22/Aneurysm_Detection_dev\")\n",
    "from training.network_training import create_compiled_unet"
   ]
  },
  {
   "cell_type": "code",
   "execution_count": 2,
   "metadata": {},
   "outputs": [
    {
     "name": "stderr",
     "output_type": "stream",
     "text": [
      "2024-04-25 10:51:26.458092: I tensorflow/core/common_runtime/gpu/gpu_device.cc:1929] Created device /job:localhost/replica:0/task:0/device:GPU:0 with 15081 MB memory:  -> device: 0, name: Quadro P5000, pci bus id: 0000:91:00.0, compute capability: 6.1\n",
      "/home/student/miniconda3/envs/fyp2/lib/python3.9/site-packages/keras/src/optimizers/legacy/adam.py:118: UserWarning:\n",
      "\n",
      "The `lr` argument is deprecated, use `learning_rate` instead.\n",
      "\n"
     ]
    },
    {
     "data": {
      "text/plain": [
       "<tensorflow.python.checkpoint.checkpoint.CheckpointLoadStatus at 0x7f2d000e7eb0>"
      ]
     },
     "execution_count": 2,
     "metadata": {},
     "output_type": "execute_result"
    }
   ],
   "source": [
    "# define input and create U-Net model\n",
    "inputs = tf.keras.Input(shape=(64, 8, 8, 1), name='TOF_patch')\n",
    "# create UNET and compile. There shouldn't be a need to compile since we're doing inference, but this solves a TF bug of the predict method, so we must compile the model\n",
    "unet = create_compiled_unet(inputs, 0.0001, 0.5, [9, 26, 61, 74])\n",
    "# LOAD weights saved from a trained model somewhere else\n",
    "unet.load_weights(os.path.join(\"/home/student/Documents/MDS22/Aneurysm_Detection_dev/fixed_pickles/Train_Outputs_Aug_16_2021_chuv_weak_plus_voxelwise_pretrain_adam_github/fold1/saved_models\", \"my_checkpoint\")).expect_partial()"
   ]
  },
  {
   "cell_type": "code",
   "execution_count": 7,
   "metadata": {},
   "outputs": [
    {
     "name": "stdout",
     "output_type": "stream",
     "text": [
      "Model: \"model_1\"\n",
      "__________________________________________________________________________________________________\n",
      " Layer (type)                Output Shape                 Param #   Connected to                  \n",
      "==================================================================================================\n",
      " TOF_patch (InputLayer)      [(None, 64, 8, 8, 1)]        0         []                            \n",
      "                                                                                                  \n",
      " conv3d_18 (Conv3D)          (None, 64, 8, 8, 9)          252       ['TOF_patch[0][0]']           \n",
      "                                                                                                  \n",
      " conv3d_19 (Conv3D)          (None, 64, 8, 8, 9)          2196      ['conv3d_18[0][0]']           \n",
      "                                                                                                  \n",
      " batch_normalization_7 (Bat  (None, 64, 8, 8, 9)          36        ['conv3d_19[0][0]']           \n",
      " chNormalization)                                                                                 \n",
      "                                                                                                  \n",
      " max_pooling3d_3 (MaxPoolin  (None, 32, 4, 4, 9)          0         ['batch_normalization_7[0][0]'\n",
      " g3D)                                                               ]                             \n",
      "                                                                                                  \n",
      " conv3d_20 (Conv3D)          (None, 32, 4, 4, 26)         6344      ['max_pooling3d_3[0][0]']     \n",
      "                                                                                                  \n",
      " conv3d_21 (Conv3D)          (None, 32, 4, 4, 26)         18278     ['conv3d_20[0][0]']           \n",
      "                                                                                                  \n",
      " batch_normalization_8 (Bat  (None, 32, 4, 4, 26)         104       ['conv3d_21[0][0]']           \n",
      " chNormalization)                                                                                 \n",
      "                                                                                                  \n",
      " max_pooling3d_4 (MaxPoolin  (None, 16, 2, 2, 26)         0         ['batch_normalization_8[0][0]'\n",
      " g3D)                                                               ]                             \n",
      "                                                                                                  \n",
      " conv3d_22 (Conv3D)          (None, 16, 2, 2, 61)         42883     ['max_pooling3d_4[0][0]']     \n",
      "                                                                                                  \n",
      " conv3d_23 (Conv3D)          (None, 16, 2, 2, 61)         100528    ['conv3d_22[0][0]']           \n",
      "                                                                                                  \n",
      " batch_normalization_9 (Bat  (None, 16, 2, 2, 61)         244       ['conv3d_23[0][0]']           \n",
      " chNormalization)                                                                                 \n",
      "                                                                                                  \n",
      " max_pooling3d_5 (MaxPoolin  (None, 8, 1, 1, 61)          0         ['batch_normalization_9[0][0]'\n",
      " g3D)                                                               ]                             \n",
      "                                                                                                  \n",
      " conv3d_24 (Conv3D)          (None, 8, 1, 1, 74)          121952    ['max_pooling3d_5[0][0]']     \n",
      "                                                                                                  \n",
      " conv3d_25 (Conv3D)          (None, 8, 1, 1, 74)          147926    ['conv3d_24[0][0]']           \n",
      "                                                                                                  \n",
      " batch_normalization_10 (Ba  (None, 8, 1, 1, 74)          296       ['conv3d_25[0][0]']           \n",
      " tchNormalization)                                                                                \n",
      "                                                                                                  \n",
      " up_sampling3d_3 (UpSamplin  (None, 16, 2, 2, 74)         0         ['batch_normalization_10[0][0]\n",
      " g3D)                                                               ']                            \n",
      "                                                                                                  \n",
      " conv3d_26 (Conv3D)          (None, 16, 2, 2, 61)         36173     ['up_sampling3d_3[0][0]']     \n",
      "                                                                                                  \n",
      " concatenate_3 (Concatenate  (None, 16, 2, 2, 122)        0         ['batch_normalization_9[0][0]'\n",
      " )                                                                  , 'conv3d_26[0][0]']          \n",
      "                                                                                                  \n",
      " conv3d_27 (Conv3D)          (None, 16, 2, 2, 61)         200995    ['concatenate_3[0][0]']       \n",
      "                                                                                                  \n",
      " conv3d_28 (Conv3D)          (None, 16, 2, 2, 61)         100528    ['conv3d_27[0][0]']           \n",
      "                                                                                                  \n",
      " batch_normalization_11 (Ba  (None, 16, 2, 2, 61)         244       ['conv3d_28[0][0]']           \n",
      " tchNormalization)                                                                                \n",
      "                                                                                                  \n",
      " up_sampling3d_4 (UpSamplin  (None, 32, 4, 4, 61)         0         ['batch_normalization_11[0][0]\n",
      " g3D)                                                               ']                            \n",
      "                                                                                                  \n",
      " conv3d_29 (Conv3D)          (None, 32, 4, 4, 26)         12714     ['up_sampling3d_4[0][0]']     \n",
      "                                                                                                  \n",
      " concatenate_4 (Concatenate  (None, 32, 4, 4, 52)         0         ['batch_normalization_8[0][0]'\n",
      " )                                                                  , 'conv3d_29[0][0]']          \n",
      "                                                                                                  \n",
      " conv3d_30 (Conv3D)          (None, 32, 4, 4, 26)         36530     ['concatenate_4[0][0]']       \n",
      "                                                                                                  \n",
      " conv3d_31 (Conv3D)          (None, 32, 4, 4, 26)         18278     ['conv3d_30[0][0]']           \n",
      "                                                                                                  \n",
      " batch_normalization_12 (Ba  (None, 32, 4, 4, 26)         104       ['conv3d_31[0][0]']           \n",
      " tchNormalization)                                                                                \n",
      "                                                                                                  \n",
      " up_sampling3d_5 (UpSamplin  (None, 64, 8, 8, 26)         0         ['batch_normalization_12[0][0]\n",
      " g3D)                                                               ']                            \n",
      "                                                                                                  \n",
      " conv3d_32 (Conv3D)          (None, 64, 8, 8, 9)          1881      ['up_sampling3d_5[0][0]']     \n",
      "                                                                                                  \n",
      " concatenate_5 (Concatenate  (None, 64, 8, 8, 18)         0         ['batch_normalization_7[0][0]'\n",
      " )                                                                  , 'conv3d_32[0][0]']          \n",
      "                                                                                                  \n",
      " conv3d_33 (Conv3D)          (None, 64, 8, 8, 9)          4383      ['concatenate_5[0][0]']       \n",
      "                                                                                                  \n",
      " conv3d_34 (Conv3D)          (None, 64, 8, 8, 9)          2196      ['conv3d_33[0][0]']           \n",
      "                                                                                                  \n",
      " batch_normalization_13 (Ba  (None, 64, 8, 8, 9)          36        ['conv3d_34[0][0]']           \n",
      " tchNormalization)                                                                                \n",
      "                                                                                                  \n",
      " conv3d_35 (Conv3D)          (None, 64, 8, 8, 1)          10        ['batch_normalization_13[0][0]\n",
      "                                                                    ']                            \n",
      "                                                                                                  \n",
      "==================================================================================================\n",
      "Total params: 855111 (3.26 MB)\n",
      "Trainable params: 854579 (3.26 MB)\n",
      "Non-trainable params: 532 (2.08 KB)\n",
      "__________________________________________________________________________________________________\n"
     ]
    }
   ],
   "source": [
    "unet.summary()"
   ]
  },
  {
   "cell_type": "code",
   "execution_count": 3,
   "metadata": {},
   "outputs": [
    {
     "name": "stderr",
     "output_type": "stream",
     "text": [
      "2024-04-25 10:51:34.314485: I tensorflow/core/grappler/devices.cc:66] Number of eligible GPUs (core count >= 8, compute capability >= 0.0): 1\n",
      "2024-04-25 10:51:34.314595: I tensorflow/core/grappler/clusters/single_machine.cc:361] Starting new session\n",
      "2024-04-25 10:51:35.990001: I tensorflow/core/common_runtime/gpu/gpu_device.cc:1929] Created device /job:localhost/replica:0/task:0/device:GPU:0 with 15081 MB memory:  -> device: 0, name: Quadro P5000, pci bus id: 0000:91:00.0, compute capability: 6.1\n",
      "2024-04-25 10:51:36.228482: I tensorflow/core/common_runtime/gpu/gpu_device.cc:1929] Created device /job:localhost/replica:0/task:0/device:GPU:0 with 15081 MB memory:  -> device: 0, name: Quadro P5000, pci bus id: 0000:91:00.0, compute capability: 6.1\n",
      "2024-04-25 10:51:36.260622: I tensorflow/core/grappler/devices.cc:66] Number of eligible GPUs (core count >= 8, compute capability >= 0.0): 1\n",
      "2024-04-25 10:51:36.260750: I tensorflow/core/grappler/clusters/single_machine.cc:361] Starting new session\n",
      "2024-04-25 10:51:36.262391: I tensorflow/core/common_runtime/gpu/gpu_device.cc:1929] Created device /job:localhost/replica:0/task:0/device:GPU:0 with 15081 MB memory:  -> device: 0, name: Quadro P5000, pci bus id: 0000:91:00.0, compute capability: 6.1\n",
      "/home/student/miniconda3/envs/fyp2/lib/python3.9/site-packages/onnx2pytorch/convert/layer.py:30: UserWarning:\n",
      "\n",
      "The given NumPy array is not writable, and PyTorch does not support non-writable tensors. This means writing to this tensor will result in undefined behavior. You may want to copy the array to protect its data or make it writable before converting it to a tensor. This type of warning will be suppressed for the rest of this program. (Triggered internally at ../torch/csrc/utils/tensor_numpy.cpp:206.)\n",
      "\n"
     ]
    }
   ],
   "source": [
    "import torch\n",
    "import tf2onnx\n",
    "import onnx\n",
    "from onnx2pytorch import ConvertModel\n",
    "\n",
    "# Convert the model to ONNX format\n",
    "onnx_model, _ = tf2onnx.convert.from_keras(unet)\n",
    "\n",
    "# Load ONNX model\n",
    "# onnx_model = onnx.load_model(\"tf_model.onnx\")\n",
    "\n",
    "# Convert ONNX model to PyTorch\n",
    "pytorch_model = ConvertModel(onnx_model)"
   ]
  },
  {
   "cell_type": "code",
   "execution_count": 4,
   "metadata": {},
   "outputs": [
    {
     "ename": "AttributeError",
     "evalue": "'ConvertModel' object has no attribute 'network'",
     "output_type": "error",
     "traceback": [
      "\u001b[0;31m---------------------------------------------------------------------------\u001b[0m",
      "\u001b[0;31mAttributeError\u001b[0m                            Traceback (most recent call last)",
      "\u001b[1;32m/home/student/Documents/MDS22/Aneurysm_Detection_dev/dev/conversion.ipynb Cell 5\u001b[0m line \u001b[0;36m1\n\u001b[0;32m----> <a href='vscode-notebook-cell:/home/student/Documents/MDS22/Aneurysm_Detection_dev/dev/conversion.ipynb#X10sZmlsZQ%3D%3D?line=0'>1</a>\u001b[0m pytorch_model\u001b[39m.\u001b[39;49mnetwork\n",
      "File \u001b[0;32m~/miniconda3/envs/fyp2/lib/python3.9/site-packages/torch/nn/modules/module.py:1709\u001b[0m, in \u001b[0;36mModule.__getattr__\u001b[0;34m(self, name)\u001b[0m\n\u001b[1;32m   1707\u001b[0m     \u001b[39mif\u001b[39;00m name \u001b[39min\u001b[39;00m modules:\n\u001b[1;32m   1708\u001b[0m         \u001b[39mreturn\u001b[39;00m modules[name]\n\u001b[0;32m-> 1709\u001b[0m \u001b[39mraise\u001b[39;00m \u001b[39mAttributeError\u001b[39;00m(\u001b[39mf\u001b[39m\u001b[39m\"\u001b[39m\u001b[39m'\u001b[39m\u001b[39m{\u001b[39;00m\u001b[39mtype\u001b[39m(\u001b[39mself\u001b[39m)\u001b[39m.\u001b[39m\u001b[39m__name__\u001b[39m\u001b[39m}\u001b[39;00m\u001b[39m'\u001b[39m\u001b[39m object has no attribute \u001b[39m\u001b[39m'\u001b[39m\u001b[39m{\u001b[39;00mname\u001b[39m}\u001b[39;00m\u001b[39m'\u001b[39m\u001b[39m\"\u001b[39m)\n",
      "\u001b[0;31mAttributeError\u001b[0m: 'ConvertModel' object has no attribute 'network'"
     ]
    }
   ],
   "source": [
    "pytorch_model.network"
   ]
  },
  {
   "cell_type": "code",
   "execution_count": 16,
   "metadata": {},
   "outputs": [],
   "source": [
    "from medcam import medcam\n",
    "\n",
    "medcam_model = medcam.inject(pytorch_model, output_dir=\"attention_maps\", save_maps=True)"
   ]
  },
  {
   "cell_type": "code",
   "execution_count": null,
   "metadata": {},
   "outputs": [],
   "source": []
  }
 ],
 "metadata": {
  "kernelspec": {
   "display_name": "fyp2",
   "language": "python",
   "name": "python3"
  },
  "language_info": {
   "codemirror_mode": {
    "name": "ipython",
    "version": 3
   },
   "file_extension": ".py",
   "mimetype": "text/x-python",
   "name": "python",
   "nbconvert_exporter": "python",
   "pygments_lexer": "ipython3",
   "version": "3.9.18"
  },
  "orig_nbformat": 4
 },
 "nbformat": 4,
 "nbformat_minor": 2
}
